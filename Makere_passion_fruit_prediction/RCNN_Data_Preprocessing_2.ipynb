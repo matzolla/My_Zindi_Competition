{
  "nbformat": 4,
  "nbformat_minor": 0,
  "metadata": {
    "colab": {
      "name": "RCNN_Data_Preprocessing_2.ipynb",
      "provenance": []
    },
    "kernelspec": {
      "name": "python3",
      "display_name": "Python 3"
    },
    "language_info": {
      "name": "python"
    },
    "accelerator": "GPU"
  },
  "cells": [
    {
      "cell_type": "markdown",
      "metadata": {
        "id": "R85mxYozsH77"
      },
      "source": [
        "Name: Tchangmena A Nken Allassan\n",
        "\n",
        "Creation_date: 14/10/2021\n",
        "\n",
        "Update_date:  14/10/2021\n",
        "\n",
        "\n",
        "Now here what we create directories for different classes _fruit_healthy_,_fruit_woodiness_,_brown_spot_, and _back_ground_"
      ]
    },
    {
      "cell_type": "code",
      "metadata": {
        "id": "X6Ej5IZ90OVc",
        "colab": {
          "base_uri": "https://localhost:8080/"
        },
        "outputId": "45e956a0-1c59-46e8-b9b6-159f960e8112"
      },
      "source": [
        "pip install -q git+https://github.com/eaedk/testing-zindi-package.git"
      ],
      "execution_count": 1,
      "outputs": [
        {
          "output_type": "stream",
          "name": "stdout",
          "text": [
            "  Building wheel for zindi (setup.py) ... \u001b[?25l\u001b[?25hdone\n"
          ]
        }
      ]
    },
    {
      "cell_type": "code",
      "metadata": {
        "id": "ethL3WuN0iwQ"
      },
      "source": [
        "# Import Zindian class from the package\n",
        "from zindi.user import Zindian"
      ],
      "execution_count": 2,
      "outputs": []
    },
    {
      "cell_type": "code",
      "metadata": {
        "colab": {
          "base_uri": "https://localhost:8080/"
        },
        "id": "IxxQlYpL0n_u",
        "outputId": "de697553-236a-449b-a6b6-33b10709b464"
      },
      "source": [
        "# create a user object\n",
        "my_username = \"Tony_Stark\"\n",
        "user = Zindian(username = my_username)"
      ],
      "execution_count": 3,
      "outputs": [
        {
          "output_type": "stream",
          "name": "stdout",
          "text": [
            "Your password\n",
            ">> ··········\n",
            "\n",
            "[ 🟢 ] 👋🏾👋🏾 Welcome Tony_Stark 👋🏾👋🏾\n",
            "\n"
          ]
        }
      ]
    },
    {
      "cell_type": "code",
      "metadata": {
        "colab": {
          "base_uri": "https://localhost:8080/",
          "height": 1000
        },
        "id": "eFX6hRyl0rpV",
        "outputId": "9540946a-f348-486c-93b4-e48ab424c4c8"
      },
      "source": [
        "user.select_a_challenge()                               # Select a Zindi challenge\n",
        "user.which_challenge                                    # Get information about the selected challenge"
      ],
      "execution_count": 4,
      "outputs": [
        {
          "output_type": "stream",
          "name": "stdout",
          "text": [
            "__________________________________________________________________________________________________________________________________\n",
            "|     |              |                  |                    |          \n",
            "|index|  challenge   |     problem      |       reward       |    id    \n",
            "|     |              |                  |                    |          \n",
            "----------------------------------------------------------------------------------------------------------------------------------\n",
            "|  0  | Public Hack  |                  |        $800        | coral-classification-challenge...\n",
            "----------------------------------------------------------------------------------------------------------------------------------\n",
            "|  1  |Public Compet |  Classification  |     $7 500 USD     | bloodsai-blood-spectroscopy-classification-challen...\n",
            "----------------------------------------------------------------------------------------------------------------------------------\n",
            "|  2  |Public Compet |Automatic Speech R|     $3 000 USD     | mozilla-luganda-automatic-speech-recognition...\n",
            "----------------------------------------------------------------------------------------------------------------------------------\n",
            "|  3  |Public Compet |    Prediction    |     $3 000 USD     | zindi-user-behaviour-birthday-challenge...\n",
            "----------------------------------------------------------------------------------------------------------------------------------\n",
            "|  4  |Public Compet |  Classification  |     Knowledge      | road-segment-identification...\n",
            "----------------------------------------------------------------------------------------------------------------------------------\n",
            "|  5  |Public Compet |    Prediction    |     $1 000 USD     | expresso-churn-prediction...\n",
            "----------------------------------------------------------------------------------------------------------------------------------\n",
            "|  6  |Public Compet |  Classification  |     $1 000 USD     | makerere-passion-fruit-disease-detection-challenge...\n",
            "----------------------------------------------------------------------------------------------------------------------------------\n",
            "|  7  |Public Compet |  Classification  |    2000 Points     | gender-based-violence-tweet-classification-challen...\n",
            "----------------------------------------------------------------------------------------------------------------------------------\n",
            "|  8  |Public Compet |     Forecast     |     $8 800 USD     | radiant-earth-spot-the-crop-xl-challenge...\n",
            "----------------------------------------------------------------------------------------------------------------------------------\n",
            "|  9  |Public Compet |     Forecast     |     $8 800USD      | radiant-earth-spot-the-crop-challenge...\n",
            "----------------------------------------------------------------------------------------------------------------------------------\n",
            "| 10  |Public Compet |    Prediction    |     Knowledge      | local-ocean-conservation-sea-turtle-face-detection...\n",
            "----------------------------------------------------------------------------------------------------------------------------------\n",
            "| 11  |Public Compet |  Classification  |     Knowledge      | zindiweekendz-learning-to-vaccinate-or-not-to-vacc...\n",
            "----------------------------------------------------------------------------------------------------------------------------------\n",
            "| 12  |Public Compet |  Classification  |     Knowledge      | swahili-news-classification...\n",
            "----------------------------------------------------------------------------------------------------------------------------------\n",
            "| 13  |Public Compet |    Prediction    |     Knowledge      | zindiweekendz-learning-urban-air-pollution-challen...\n",
            "----------------------------------------------------------------------------------------------------------------------------------\n",
            "| 14  |Public Compet |  Classification  |     Knowledge      | zindiweekendz-learning-covid-19-tweet-classificati...\n",
            "----------------------------------------------------------------------------------------------------------------------------------\n",
            "| 15  |Public Compet |    Prediction    |     Knowledge      | zindiweekendz-learning-south-african-covid-19-vuln...\n",
            "----------------------------------------------------------------------------------------------------------------------------------\n",
            "| 16  |Public Compet | Computer Vision  |     Knowledge      | zindiweekendz-learning-spot-the-mask-challenge...\n",
            "----------------------------------------------------------------------------------------------------------------------------------\n",
            "| 17  |Public Compet |    Prediction    |     Knowledge      | tanzania-tourism-prediction...\n",
            "----------------------------------------------------------------------------------------------------------------------------------\n",
            "| 18  |Public Compet |    Prediction    |     Knowledge      | data-science-nigeria-2019-challenge-1-insurance-pr...\n",
            "----------------------------------------------------------------------------------------------------------------------------------\n",
            "| 19  |Public Compet |  Classification  |     Knowledge      | ai-hack-tunisia-1-computer-vision-challenge-1...\n",
            "----------------------------------------------------------------------------------------------------------------------------------\n",
            "| 20  |Public Compet | Computer Vision  |     Knowledge      | ai-hack-tunisia-2-computer-vision-challenge-2...\n",
            "----------------------------------------------------------------------------------------------------------------------------------\n",
            "| 21  |Public Compet |    Prediction    |     Knowledge      | ai-tunisia-hack-5-predictive-analytics-challenge-2...\n",
            "----------------------------------------------------------------------------------------------------------------------------------\n",
            "| 22  |Public Compet |  Classification  |     Knowledge      | ai-hack-tunisia-4-predictive-analytics-challenge-1...\n",
            "----------------------------------------------------------------------------------------------------------------------------------\n",
            "| 23  |Public Compet |  Classification  |     Knowledge      | ai-hack-tunisia-6-predictive-analytics-challenge-3...\n",
            "----------------------------------------------------------------------------------------------------------------------------------\n",
            "| 24  |Public Compet | Computer Vision  |     Knowledge      | miia-pothole-image-classification-challenge...\n",
            "----------------------------------------------------------------------------------------------------------------------------------\n",
            "| 25  |Public Compet | Computer Vision  |     Knowledge      | sbtic-animal-classification...\n",
            "----------------------------------------------------------------------------------------------------------------------------------\n",
            "| 26  |Public Compet |    Prediction    |     Knowledge      | financial-inclusion-in-africa...\n",
            "----------------------------------------------------------------------------------------------------------------------------------\n",
            "| 27  |Public Compet | Computer Vision  |     Knowledge      | cmu-africa-data-science-club-challenge-1-computer-...\n",
            "----------------------------------------------------------------------------------------------------------------------------------\n",
            "| 28  |Public Compet |    Prediction    |     Knowledge      | data-science-nigeria-challenge-2-recommendation-en...\n",
            "----------------------------------------------------------------------------------------------------------------------------------\n",
            "| 29  |Public Compet |    Prediction    |     Knowledge      | data-science-nigeria-challenge-1-loan-default-pred...\n",
            "----------------------------------------------------------------------------------------------------------------------------------\n",
            "| 30  | Public Hack  | Computer Vision  |      $300 USD      | marine-invertebrates-classification-challenge...\n",
            "----------------------------------------------------------------------------------------------------------------------------------\n",
            "| 31  | Public Hack  |  Classification  |      $300 USD      | road-segment-identification-challenge...\n",
            "----------------------------------------------------------------------------------------------------------------------------------\n",
            "| 32  | Public Hack  |  Classification  |     $1 000 USD     | amld...   \n",
            "----------------------------------------------------------------------------------------------------------------------------------\n",
            "| 33  | Public Hack  |  Classification  |      $300 USD      | gender-based-violence-tweet-classification...\n",
            "----------------------------------------------------------------------------------------------------------------------------------\n",
            "| 34  | Public Hack  |     Forecast     |        $300        | radiant-earth-spot-the-crop-hackathon...\n",
            "----------------------------------------------------------------------------------------------------------------------------------\n",
            "| 35  | Public Hack  |                  |      $700 USD      | silicon-valley-21st-century-education-hackathon...\n",
            "----------------------------------------------------------------------------------------------------------------------------------\n",
            "| 36  |Public Compet |    Prediction    |     $1 000 USD     | cryptocurrency-closing-price-prediction...\n",
            "----------------------------------------------------------------------------------------------------------------------------------\n",
            "| 37  |Public Compet |    Prediction    |     $5 000 USD     | sfc-paygo-solar-credit-repayment-competition...\n",
            "----------------------------------------------------------------------------------------------------------------------------------\n",
            "| 38  | Public Hack  |    Prediction    |      $300 USD      | sfc-paygo-solar-credit-repayment-hackathon...\n",
            "----------------------------------------------------------------------------------------------------------------------------------\n",
            "| 39  |Public Compet |  Visualisation   |     $5 000 USD     | afd-solutions-for-gender-based-violence-challenge...\n",
            "----------------------------------------------------------------------------------------------------------------------------------\n",
            "| 40  |Public Compet |    Prediction    |Scholarship worth $3| ix-mobile-banking-prediction-challenge...\n",
            "----------------------------------------------------------------------------------------------------------------------------------\n",
            "| 41  |Public Compet |  Visualisation   |     $1 500 USD     | deepfake-africa-challenge...\n",
            "----------------------------------------------------------------------------------------------------------------------------------\n",
            "| 42  |Public Compet |    Prediction    |     $1 000 USD     | airqo-low-cost-air-quality-monitor-calibration-cha...\n",
            "----------------------------------------------------------------------------------------------------------------------------------\n",
            "| 43  | Public Hack  |    Prediction    |      $250 USD      | airqo-air-sensor-calibration-challenge...\n",
            "----------------------------------------------------------------------------------------------------------------------------------\n",
            "| 44  |Public Compet |    Prediction    |    2000 Points     | economic-well-being-prediction-challenge...\n",
            "----------------------------------------------------------------------------------------------------------------------------------\n",
            "| 45  | Public Hack  |    Prediction    |     $1,000 USD     | womens-hackathon...\n",
            "----------------------------------------------------------------------------------------------------------------------------------\n",
            "| 46  |Public Compet |    Prediction    |    $10 000 USD     | lacuna-correct-field-detection-challenge...\n",
            "----------------------------------------------------------------------------------------------------------------------------------\n",
            "| 47  |Public Compet |    Prediction    |     $1 000 USD     | autoinland-vehicle-insurance-claim-challenge...\n",
            "----------------------------------------------------------------------------------------------------------------------------------\n",
            "| 48  |Public Compet |    Collection    |     $1 000 USD     | afd-gender-based-violence-dataset-collection-chall...\n",
            "----------------------------------------------------------------------------------------------------------------------------------\n",
            "| 49  |Public Compet |Automatic Speech R|     $2 000 USD     | ai4d-baamtu-datamation-automatic-speech-recognitio...\n",
            "----------------------------------------------------------------------------------------------------------------------------------\n",
            "| 50  |Public Compet |  Classification  |     $2 000 USD     | ai4d-malawi-news-classification-challenge...\n",
            "----------------------------------------------------------------------------------------------------------------------------------\n",
            "| 51  |Public Compet |   Translation    |     $2 000 USD     | ai4d-takwimu-lab-machine-translation-challenge...\n",
            "----------------------------------------------------------------------------------------------------------------------------------\n",
            "| 52  |Public Compet |   Translation    |     $2 000 USD     | ai4d-yoruba-machine-translation-challenge...\n",
            "----------------------------------------------------------------------------------------------------------------------------------\n",
            "| 53  |Public Compet |  Classification  |     $2 000 USD     | ai4d-icompass-social-media-sentiment-analysis-for-...\n",
            "----------------------------------------------------------------------------------------------------------------------------------\n",
            "| 54  |Public Compet |  Classification  |   Job Interview    | instadeep-enzyme-classification-challenge...\n",
            "----------------------------------------------------------------------------------------------------------------------------------\n",
            "| 55  |Public Compet |    Prediction    |     $3 000 USD     | cgiar-crop-yield-prediction-challenge...\n",
            "----------------------------------------------------------------------------------------------------------------------------------\n",
            "| 56  |Public Compet |    Prediction    |     $6 000 USD     | uber-nairobi-ambulance-perambulation-challenge...\n",
            "----------------------------------------------------------------------------------------------------------------------------------\n",
            "| 57  |Public Compet |  Classification  |     $7 000 USD     | giz-nlp-agricultural-keyword-spotter...\n",
            "----------------------------------------------------------------------------------------------------------------------------------\n",
            "| 58  |Public Compet | Computer Vision  |     $3 000 USD     | cgiar-wheat-growth-stage-challenge...\n",
            "----------------------------------------------------------------------------------------------------------------------------------\n",
            "| 59  |Public Compet |  Classification  | 2000 Zindi Points  | runmila-ai-institute-minohealth-ai-labs-tuberculos...\n",
            "----------------------------------------------------------------------------------------------------------------------------------\n",
            "| 60  |Public Compet |    Prediction    |    $25 000 USD     | usaids-intelligent-forecasting-challenge-model-fut...\n",
            "----------------------------------------------------------------------------------------------------------------------------------\n",
            "| 61  |Public Compet |    Prediction    |     $5 000 USD     | zimnat-insurance-recommendation-challenge...\n",
            "----------------------------------------------------------------------------------------------------------------------------------\n",
            "| 62  |Public Compet |Reinforcement Lear| 3000 Zindi Points  | indaba-grand-challenge-curing-leishmaniasis...\n",
            "----------------------------------------------------------------------------------------------------------------------------------\n",
            "| 63  | Public Hack  |    Prediction    |     Knowledge      | fighting-fire-with-data-hackathon...\n",
            "----------------------------------------------------------------------------------------------------------------------------------\n",
            "| 64  | Public Hack  |  Classification  |    225,000 Tsh     | swahili-news-classification-challenge...\n",
            "----------------------------------------------------------------------------------------------------------------------------------\n",
            "| 65  | Public Hack  | Computer Vision  |     $1,000 USD     | sansa-informal-settlements-in-south-africa...\n",
            "----------------------------------------------------------------------------------------------------------------------------------\n",
            "| 66  |Public Compet |    Collection    |     $6 000 USD     | ai4d-african-language-dataset-challenge...\n",
            "----------------------------------------------------------------------------------------------------------------------------------\n",
            "| 67  | Public Hack  |    Prediction    |      $300 USD      | the-zimnat-insurance-assurance-challenge...\n",
            "----------------------------------------------------------------------------------------------------------------------------------\n",
            "| 68  |Public Compet |    Prediction    |     $3 000 USD     | akeed-restaurant-recommendation-challenge...\n",
            "----------------------------------------------------------------------------------------------------------------------------------\n",
            "| 69  | Public Hack  |    Prediction    |      $300 USD      | akeed-restaurant-recommendation-hackathon...\n",
            "----------------------------------------------------------------------------------------------------------------------------------\n",
            "| 70  | Public Hack  |  Classification  |      $300 USD      | covid-19-tweet-classification-challenge...\n",
            "----------------------------------------------------------------------------------------------------------------------------------\n",
            "| 71  |Public Compet |  Classification  |     $4 200 USD     | basic-needs-basic-rights-kenya-tech4mentalhealth...\n",
            "----------------------------------------------------------------------------------------------------------------------------------\n",
            "| 72  | Public Hack  |  Classification  |      $300 USD      | to-vaccinate-or-not-to-vaccinate-its-not-a-questio...\n",
            "----------------------------------------------------------------------------------------------------------------------------------\n",
            "| 73  | Public Hack  | Computer Vision  |      $300 USD      | spot-the-mask-challenge...\n",
            "----------------------------------------------------------------------------------------------------------------------------------\n",
            "| 74  | Public Hack  |    Prediction    |      $300 USD      | urban-air-pollution-challenge...\n",
            "----------------------------------------------------------------------------------------------------------------------------------\n",
            "| 75  | Public Hack  |    Prediction    |      $300 USD      | south-african-covid-19-vulnerability-map...\n",
            "----------------------------------------------------------------------------------------------------------------------------------\n",
            "| 76  |Public Compet |  Visualisation   |     $3 195 USD     | animal-insights-challenge...\n",
            "----------------------------------------------------------------------------------------------------------------------------------\n",
            "| 77  |Public Compet |     Forecast     |     $5 000 USD     | airqo-ugandan-air-quality-forecast-challenge...\n",
            "----------------------------------------------------------------------------------------------------------------------------------\n",
            "| 78  |Public Compet |     Forecast     |     $5 000 USD     | predict-the-global-spread-of-covid-19...\n",
            "----------------------------------------------------------------------------------------------------------------------------------\n",
            "| 79  |Public Compet | Computer Vision  |     $5 000 USD     | iclr-workshop-challenge-2-radiant-earth-computer-v...\n",
            "----------------------------------------------------------------------------------------------------------------------------------\n",
            "| 80  |Public Compet | Computer Vision  |     $5 000 USD     | iclr-workshop-challenge-1-cgiar-computer-vision-fo...\n",
            "----------------------------------------------------------------------------------------------------------------------------------\n",
            "| 81  |Public Compet |  Classification  | 2000 Zindi Points  | fowl-escapades...\n",
            "----------------------------------------------------------------------------------------------------------------------------------\n",
            "| 82  |Public Compet |     Forecast     |    $10 000 USD     | 2030-vision-flood-prediction-in-malawi...\n",
            "----------------------------------------------------------------------------------------------------------------------------------\n",
            "| 83  |Public Compet |  Visualisation   |     $5 000 USD     | 2030-vision-data-visualization-and-reporting-chall...\n",
            "----------------------------------------------------------------------------------------------------------------------------------\n",
            "| 84  |Public Compet |     Forecast     | 2000 Zindi Points  | sea-turtle-rescue-forecast-challenge...\n",
            "----------------------------------------------------------------------------------------------------------------------------------\n",
            "| 85  |Public Compet |    Prediction    |     $5 000 USD     | womxn-in-big-data-south-africa-female-headed-house...\n",
            "----------------------------------------------------------------------------------------------------------------------------------\n",
            "| 86  |Public Compet |  Classification  | 2000 Zindi Points  | tic-heap-cirta-particle-classification-challenge...\n",
            "----------------------------------------------------------------------------------------------------------------------------------\n",
            "| 87  |Public Compet |    Prediction    |     $5 500 USD     | uber-movement-sanral-cape-town-challenge...\n",
            "----------------------------------------------------------------------------------------------------------------------------------\n",
            "| 88  |Public Compet |    Prediction    | 2000 Zindi Points  | sbtic-xente-credit-scoring-challenge...\n",
            "----------------------------------------------------------------------------------------------------------------------------------\n",
            "| 89  |Public Compet |Reinforcement Lear|     Knowledge      | ibm-malaria-challenge...\n",
            "----------------------------------------------------------------------------------------------------------------------------------\n",
            "| 90  |Public Compet |    Prediction    |     $7 000 USD     | sendy-logistics-challenge...\n",
            "----------------------------------------------------------------------------------------------------------------------------------\n",
            "| 91  |Public Compet |     Forecast     |     $8 000 USD     | wazihub-soil-moisture-prediction-challenge...\n",
            "----------------------------------------------------------------------------------------------------------------------------------\n",
            "| 92  |Public Compet |  Visualisation   |     $3 000 USD     | ai-art... \n",
            "----------------------------------------------------------------------------------------------------------------------------------\n",
            "| 93  |Public Compet |  Classification  |     $4 500 USD     | xente-fraud-detection-challenge...\n",
            "----------------------------------------------------------------------------------------------------------------------------------\n",
            "| 94  |Public Compet |     Forecast     | 2000 Zindi Points  | mtoto-news-childline-kenya-call-volume-prediction-...\n",
            "----------------------------------------------------------------------------------------------------------------------------------\n",
            "| 95  |Public Compet |    Prediction    |Cash and prizes wort| mobile-money-and-financial-inclusion-in-tanzania-c...\n",
            "----------------------------------------------------------------------------------------------------------------------------------\n",
            "| 96  |Public Compet |  Classification  |    $11 000 USD     | farm-pin-crop-detection-challenge...\n",
            "----------------------------------------------------------------------------------------------------------------------------------\n",
            "| 97  |Public Compet |  Classification  |Cash and prizes wort| sea-turtle-rescue-error-detection-challenge...\n",
            "----------------------------------------------------------------------------------------------------------------------------------\n",
            "| 98  |Public Compet |    Prediction    |  500 Zindi Points  | busara-mental-health-prediction-challenge...\n",
            "----------------------------------------------------------------------------------------------------------------------------------\n",
            "| 99  |Public Compet |    Prediction    |    $12 000 USD     | traffic-jam-predicting-peoples-movement-into-nairo...\n",
            "----------------------------------------------------------------------------------------------------------------------------------\n",
            "| 100 |Public Compet |  Classification  |     $1 000 USD     | sustainable-development-goals-sdgs-text-classifica...\n",
            "----------------------------------------------------------------------------------------------------------------------------------\n",
            "| 101 |Public Compet |    Prediction    |     $1 000 USD     | social-media-prediction-challenge...\n",
            "__________________________________________________________________________________________________________________________________\n",
            "\n",
            "\n",
            "Type the index of the challenge you want to select or 'q' to exit.\n",
            ">>6\n",
            "\n",
            "[ 🟢 ] You choose the challenge : makerere-passion-fruit-disease-detection-challenge,\n",
            "\tCan you identify which passion fruit are diseased and which are healthy?.\n",
            "\n",
            "\n",
            "[ 🟢 ] You are currently enrolled in : makerere-passion-fruit-disease-detection-challenge challenge,\n",
            "\tCan you identify which passion fruit are diseased and which are healthy?.\n",
            "\n"
          ]
        },
        {
          "output_type": "execute_result",
          "data": {
            "application/vnd.google.colaboratory.intrinsic+json": {
              "type": "string"
            },
            "text/plain": [
              "'makerere-passion-fruit-disease-detection-challenge'"
            ]
          },
          "metadata": {},
          "execution_count": 4
        }
      ]
    },
    {
      "cell_type": "code",
      "metadata": {
        "colab": {
          "base_uri": "https://localhost:8080/"
        },
        "id": "9XOqGMjy0sxb",
        "outputId": "008f2bcc-4c94-4d08-92eb-eae595f79474"
      },
      "source": [
        "user.download_dataset(destination=\"dataset\") # Download the dataset of the selected challenge"
      ],
      "execution_count": 5,
      "outputs": [
        {
          "output_type": "stream",
          "name": "stderr",
          "text": [
            "dataset/PassionfruitStarterNotebook.ipynb: 100%|██████████| 609k/609k [00:00<00:00, 1.04Mo/s]\n",
            "dataset/Test.csv: 100%|██████████| 10.9k/10.9k [00:00<00:00, 4.22Mo/s]\n",
            "dataset/Sample_submission.csv: 100%|██████████| 16.4k/16.4k [00:00<00:00, 7.03Mo/s]\n",
            "dataset/Train_Images.zip: 100%|██████████| 293M/293M [00:41<00:00, 7.39Mo/s]\n",
            "dataset/Test_Images.zip: 100%|██████████| 36.4M/36.4M [00:03<00:00, 12.1Mo/s]\n",
            "dataset/Train.csv: 100%|██████████| 192k/192k [00:00<00:00, 494ko/s]\n"
          ]
        }
      ]
    },
    {
      "cell_type": "code",
      "metadata": {
        "id": "Z5OfqxNH01HM"
      },
      "source": [
        "#!unzip \"dataset/Train_Images.zip\""
      ],
      "execution_count": null,
      "outputs": []
    },
    {
      "cell_type": "code",
      "metadata": {
        "id": "lg2NFyScoOHQ"
      },
      "source": [
        "#import necessary libraries\n",
        "import numpy as np\n",
        "import pandas as pd\n",
        "import matplotlib.pyplot as plt\n",
        "import cv2\n",
        "import keras\n",
        "import os \n",
        "from tqdm import tqdm\n",
        "import json"
      ],
      "execution_count": 6,
      "outputs": []
    },
    {
      "cell_type": "code",
      "metadata": {
        "id": "Dl5aTgSzzocS"
      },
      "source": [
        "train_json='train_1.json'\n",
        "data='Train_Images/'"
      ],
      "execution_count": 7,
      "outputs": []
    },
    {
      "cell_type": "code",
      "metadata": {
        "id": "xreJw9pG1_8z"
      },
      "source": [
        "#train\n",
        "with open(train_json,'r') as train:\n",
        "  train_data=json.load(train)"
      ],
      "execution_count": 15,
      "outputs": []
    },
    {
      "cell_type": "code",
      "metadata": {
        "id": "rY6VQWEpD-jQ"
      },
      "source": [
        "train_image_list=list(train_data.keys())"
      ],
      "execution_count": null,
      "outputs": []
    },
    {
      "cell_type": "markdown",
      "metadata": {
        "id": "e3LtTjbSOMg7"
      },
      "source": [
        "#Creating folders"
      ]
    },
    {
      "cell_type": "code",
      "metadata": {
        "id": "jYhS8gXHMVBA"
      },
      "source": [
        "os.mkdir('Train')\n",
        "#os.mkdir('Test')"
      ],
      "execution_count": null,
      "outputs": []
    },
    {
      "cell_type": "code",
      "metadata": {
        "id": "33AJjrD-PGub"
      },
      "source": [
        "os.mkdir('Train/fruit_healthy')\n",
        "os.mkdir('Train/fruit_woodiness')\n",
        "os.mkdir('Train/fruit_brownspot')\n",
        "#os.mkdir('Train/back_ground')"
      ],
      "execution_count": null,
      "outputs": []
    },
    {
      "cell_type": "markdown",
      "metadata": {
        "id": "O1LRLi1GVRXT"
      },
      "source": [
        "# Creating images"
      ]
    },
    {
      "cell_type": "code",
      "metadata": {
        "colab": {
          "base_uri": "https://localhost:8080/"
        },
        "id": "30VmxnleP_uk",
        "outputId": "afdb0175-3bbd-4722-b278-6e51f985976d"
      },
      "source": [
        "#training_process\n",
        "train_csv=[]\n",
        "for i,id in tqdm(enumerate(train_image_list)):\n",
        "\n",
        "  #reading images in train_data\n",
        "  img=cv2.imread(data+id)\n",
        "\n",
        "  for region_prop in train_data[id]['region_proposal']:\n",
        "\n",
        "    #getting the region of proposal\n",
        "    x,y,w,h=region_prop[0]\n",
        "\n",
        "    # getting the labels\n",
        "    label=region_prop[1]\n",
        "\n",
        "    temp_img=cv2.cvtColor(cv2.resize(img[y:y+h,x:x+w,:],(224,224)),cv2.COLOR_BGR2RGB)\n",
        "\n",
        "    cv2.imwrite('Train/'+label+'/'+label+'_'+str(len(os.listdir('Train/'+label)))+'.jpg',temp_img)\n",
        "\n",
        "    train_csv.append({'id':label+'_'+str(len(os.listdir('Train/'+label)))+'.jpg','ymin':y,'xmin':x,'ymax':y+h,'xmax':x+w,'class':label[6:]})"
      ],
      "execution_count": null,
      "outputs": [
        {
          "output_type": "stream",
          "name": "stderr",
          "text": [
            "3001it [01:12, 41.49it/s]\n"
          ]
        }
      ]
    },
    {
      "cell_type": "code",
      "metadata": {
        "colab": {
          "base_uri": "https://localhost:8080/"
        },
        "id": "qP9qEHI8oB3c",
        "outputId": "8ed25d33-5168-41fa-aadc-4ecda060a2a2"
      },
      "source": [
        "print('number of samples in fruit brownspot: {}'.format(len(os.listdir('Train/fruit_brownspot'))))\n",
        "print('number of samples in fruit healthy: {}'.format(len(os.listdir('Train/fruit_healthy'))))\n",
        "print('number of samples in fruit woodiness: {}'.format(len(os.listdir('Train/fruit_woodiness'))))\n",
        "#print('number of samples in fruit background: {}'.format(len(os.listdir('Train/back_ground'))))"
      ],
      "execution_count": null,
      "outputs": [
        {
          "output_type": "stream",
          "name": "stdout",
          "text": [
            "number of samples in fruit brownspot: 3975\n",
            "number of samples in fruit healthy: 6483\n",
            "number of samples in fruit woodiness: 4918\n"
          ]
        }
      ]
    },
    {
      "cell_type": "code",
      "metadata": {
        "id": "i9luoW0PrlT_"
      },
      "source": [
        "train=pd.DataFrame(train_csv)"
      ],
      "execution_count": null,
      "outputs": []
    },
    {
      "cell_type": "code",
      "metadata": {
        "colab": {
          "base_uri": "https://localhost:8080/",
          "height": 204
        },
        "id": "LwAkQaK3rr1h",
        "outputId": "f6296e68-c18b-4f19-860d-10b7b3561aa7"
      },
      "source": [
        "train.head()"
      ],
      "execution_count": null,
      "outputs": [
        {
          "output_type": "execute_result",
          "data": {
            "text/html": [
              "<div>\n",
              "<style scoped>\n",
              "    .dataframe tbody tr th:only-of-type {\n",
              "        vertical-align: middle;\n",
              "    }\n",
              "\n",
              "    .dataframe tbody tr th {\n",
              "        vertical-align: top;\n",
              "    }\n",
              "\n",
              "    .dataframe thead th {\n",
              "        text-align: right;\n",
              "    }\n",
              "</style>\n",
              "<table border=\"1\" class=\"dataframe\">\n",
              "  <thead>\n",
              "    <tr style=\"text-align: right;\">\n",
              "      <th></th>\n",
              "      <th>id</th>\n",
              "      <th>ymin</th>\n",
              "      <th>xmin</th>\n",
              "      <th>ymax</th>\n",
              "      <th>xmax</th>\n",
              "      <th>class</th>\n",
              "    </tr>\n",
              "  </thead>\n",
              "  <tbody>\n",
              "    <tr>\n",
              "      <th>0</th>\n",
              "      <td>fruit_brownspot_1.jpg</td>\n",
              "      <td>135</td>\n",
              "      <td>77</td>\n",
              "      <td>436</td>\n",
              "      <td>458</td>\n",
              "      <td>brownspot</td>\n",
              "    </tr>\n",
              "    <tr>\n",
              "      <th>1</th>\n",
              "      <td>fruit_brownspot_2.jpg</td>\n",
              "      <td>165</td>\n",
              "      <td>77</td>\n",
              "      <td>435</td>\n",
              "      <td>458</td>\n",
              "      <td>brownspot</td>\n",
              "    </tr>\n",
              "    <tr>\n",
              "      <th>2</th>\n",
              "      <td>fruit_brownspot_3.jpg</td>\n",
              "      <td>161</td>\n",
              "      <td>77</td>\n",
              "      <td>437</td>\n",
              "      <td>460</td>\n",
              "      <td>brownspot</td>\n",
              "    </tr>\n",
              "    <tr>\n",
              "      <th>3</th>\n",
              "      <td>fruit_brownspot_4.jpg</td>\n",
              "      <td>156</td>\n",
              "      <td>78</td>\n",
              "      <td>440</td>\n",
              "      <td>463</td>\n",
              "      <td>brownspot</td>\n",
              "    </tr>\n",
              "    <tr>\n",
              "      <th>4</th>\n",
              "      <td>fruit_brownspot_5.jpg</td>\n",
              "      <td>164</td>\n",
              "      <td>78</td>\n",
              "      <td>436</td>\n",
              "      <td>458</td>\n",
              "      <td>brownspot</td>\n",
              "    </tr>\n",
              "  </tbody>\n",
              "</table>\n",
              "</div>"
            ],
            "text/plain": [
              "                      id  ymin  xmin  ymax  xmax      class\n",
              "0  fruit_brownspot_1.jpg   135    77   436   458  brownspot\n",
              "1  fruit_brownspot_2.jpg   165    77   435   458  brownspot\n",
              "2  fruit_brownspot_3.jpg   161    77   437   460  brownspot\n",
              "3  fruit_brownspot_4.jpg   156    78   440   463  brownspot\n",
              "4  fruit_brownspot_5.jpg   164    78   436   458  brownspot"
            ]
          },
          "metadata": {},
          "execution_count": 51
        }
      ]
    },
    {
      "cell_type": "code",
      "metadata": {
        "colab": {
          "base_uri": "https://localhost:8080/",
          "height": 204
        },
        "id": "XOSCy7Bq4ntZ",
        "outputId": "304563b7-80a0-4b60-b1a5-31382734126c"
      },
      "source": [
        "train.tail()"
      ],
      "execution_count": null,
      "outputs": [
        {
          "output_type": "execute_result",
          "data": {
            "text/html": [
              "<div>\n",
              "<style scoped>\n",
              "    .dataframe tbody tr th:only-of-type {\n",
              "        vertical-align: middle;\n",
              "    }\n",
              "\n",
              "    .dataframe tbody tr th {\n",
              "        vertical-align: top;\n",
              "    }\n",
              "\n",
              "    .dataframe thead th {\n",
              "        text-align: right;\n",
              "    }\n",
              "</style>\n",
              "<table border=\"1\" class=\"dataframe\">\n",
              "  <thead>\n",
              "    <tr style=\"text-align: right;\">\n",
              "      <th></th>\n",
              "      <th>id</th>\n",
              "      <th>ymin</th>\n",
              "      <th>xmin</th>\n",
              "      <th>ymax</th>\n",
              "      <th>xmax</th>\n",
              "      <th>class</th>\n",
              "    </tr>\n",
              "  </thead>\n",
              "  <tbody>\n",
              "    <tr>\n",
              "      <th>15371</th>\n",
              "      <td>fruit_brownspot_3974.jpg</td>\n",
              "      <td>113</td>\n",
              "      <td>262</td>\n",
              "      <td>301</td>\n",
              "      <td>512</td>\n",
              "      <td>brownspot</td>\n",
              "    </tr>\n",
              "    <tr>\n",
              "      <th>15372</th>\n",
              "      <td>fruit_brownspot_3975.jpg</td>\n",
              "      <td>113</td>\n",
              "      <td>175</td>\n",
              "      <td>318</td>\n",
              "      <td>512</td>\n",
              "      <td>brownspot</td>\n",
              "    </tr>\n",
              "    <tr>\n",
              "      <th>15373</th>\n",
              "      <td>fruit_woodiness_4916.jpg</td>\n",
              "      <td>203</td>\n",
              "      <td>94</td>\n",
              "      <td>362</td>\n",
              "      <td>318</td>\n",
              "      <td>woodiness</td>\n",
              "    </tr>\n",
              "    <tr>\n",
              "      <th>15374</th>\n",
              "      <td>fruit_woodiness_4917.jpg</td>\n",
              "      <td>206</td>\n",
              "      <td>98</td>\n",
              "      <td>360</td>\n",
              "      <td>304</td>\n",
              "      <td>woodiness</td>\n",
              "    </tr>\n",
              "    <tr>\n",
              "      <th>15375</th>\n",
              "      <td>fruit_woodiness_4918.jpg</td>\n",
              "      <td>203</td>\n",
              "      <td>0</td>\n",
              "      <td>403</td>\n",
              "      <td>318</td>\n",
              "      <td>woodiness</td>\n",
              "    </tr>\n",
              "  </tbody>\n",
              "</table>\n",
              "</div>"
            ],
            "text/plain": [
              "                             id  ymin  xmin  ymax  xmax      class\n",
              "15371  fruit_brownspot_3974.jpg   113   262   301   512  brownspot\n",
              "15372  fruit_brownspot_3975.jpg   113   175   318   512  brownspot\n",
              "15373  fruit_woodiness_4916.jpg   203    94   362   318  woodiness\n",
              "15374  fruit_woodiness_4917.jpg   206    98   360   304  woodiness\n",
              "15375  fruit_woodiness_4918.jpg   203     0   403   318  woodiness"
            ]
          },
          "metadata": {},
          "execution_count": 54
        }
      ]
    },
    {
      "cell_type": "code",
      "metadata": {
        "id": "Fbnw4g896atS"
      },
      "source": [
        "from shutil   import make_archive"
      ],
      "execution_count": 22,
      "outputs": []
    },
    {
      "cell_type": "code",
      "metadata": {
        "colab": {
          "base_uri": "https://localhost:8080/",
          "height": 35
        },
        "id": "dqPJU-iYrFpi",
        "outputId": "939ab5be-bc22-4411-8e5b-3dbc96a9bb41"
      },
      "source": [
        "make_archive('Train_1','zip',root_dir='Train_1')"
      ],
      "execution_count": null,
      "outputs": [
        {
          "output_type": "execute_result",
          "data": {
            "application/vnd.google.colaboratory.intrinsic+json": {
              "type": "string"
            },
            "text/plain": [
              "'/content/Train_1.zip'"
            ]
          },
          "metadata": {},
          "execution_count": 59
        }
      ]
    },
    {
      "cell_type": "code",
      "metadata": {
        "id": "EQaMYSuT6pjU"
      },
      "source": [
        "train.to_csv('train.csv',index=False)"
      ],
      "execution_count": 14,
      "outputs": []
    },
    {
      "cell_type": "code",
      "metadata": {
        "id": "IVlxZz8Y7KTL"
      },
      "source": [
        "## here we load our train set\n",
        "train=pd.read_csv('train.csv')"
      ],
      "execution_count": 10,
      "outputs": []
    },
    {
      "cell_type": "code",
      "metadata": {
        "colab": {
          "base_uri": "https://localhost:8080/",
          "height": 202
        },
        "id": "LXwQTcN7L6u5",
        "outputId": "bd5f6e32-45d4-4967-bf45-38f5c84c6d1c"
      },
      "source": [
        "train.tail()"
      ],
      "execution_count": 19,
      "outputs": [
        {
          "output_type": "execute_result",
          "data": {
            "text/html": [
              "<div>\n",
              "<style scoped>\n",
              "    .dataframe tbody tr th:only-of-type {\n",
              "        vertical-align: middle;\n",
              "    }\n",
              "\n",
              "    .dataframe tbody tr th {\n",
              "        vertical-align: top;\n",
              "    }\n",
              "\n",
              "    .dataframe thead th {\n",
              "        text-align: right;\n",
              "    }\n",
              "</style>\n",
              "<table border=\"1\" class=\"dataframe\">\n",
              "  <thead>\n",
              "    <tr style=\"text-align: right;\">\n",
              "      <th></th>\n",
              "      <th>id</th>\n",
              "      <th>ymin</th>\n",
              "      <th>xmin</th>\n",
              "      <th>ymax</th>\n",
              "      <th>xmax</th>\n",
              "      <th>class</th>\n",
              "    </tr>\n",
              "  </thead>\n",
              "  <tbody>\n",
              "    <tr>\n",
              "      <th>15371</th>\n",
              "      <td>fruit_brownspot_3974.jpg</td>\n",
              "      <td>113</td>\n",
              "      <td>262</td>\n",
              "      <td>301</td>\n",
              "      <td>512</td>\n",
              "      <td>brownspot</td>\n",
              "    </tr>\n",
              "    <tr>\n",
              "      <th>15372</th>\n",
              "      <td>fruit_brownspot_3975.jpg</td>\n",
              "      <td>113</td>\n",
              "      <td>175</td>\n",
              "      <td>318</td>\n",
              "      <td>512</td>\n",
              "      <td>brownspot</td>\n",
              "    </tr>\n",
              "    <tr>\n",
              "      <th>15373</th>\n",
              "      <td>fruit_woodiness_4916.jpg</td>\n",
              "      <td>203</td>\n",
              "      <td>94</td>\n",
              "      <td>362</td>\n",
              "      <td>318</td>\n",
              "      <td>woodiness</td>\n",
              "    </tr>\n",
              "    <tr>\n",
              "      <th>15374</th>\n",
              "      <td>fruit_woodiness_4917.jpg</td>\n",
              "      <td>206</td>\n",
              "      <td>98</td>\n",
              "      <td>360</td>\n",
              "      <td>304</td>\n",
              "      <td>woodiness</td>\n",
              "    </tr>\n",
              "    <tr>\n",
              "      <th>15375</th>\n",
              "      <td>fruit_woodiness_4918.jpg</td>\n",
              "      <td>203</td>\n",
              "      <td>0</td>\n",
              "      <td>403</td>\n",
              "      <td>318</td>\n",
              "      <td>woodiness</td>\n",
              "    </tr>\n",
              "  </tbody>\n",
              "</table>\n",
              "</div>"
            ],
            "text/plain": [
              "                             id  ymin  xmin  ymax  xmax      class\n",
              "15371  fruit_brownspot_3974.jpg   113   262   301   512  brownspot\n",
              "15372  fruit_brownspot_3975.jpg   113   175   318   512  brownspot\n",
              "15373  fruit_woodiness_4916.jpg   203    94   362   318  woodiness\n",
              "15374  fruit_woodiness_4917.jpg   206    98   360   304  woodiness\n",
              "15375  fruit_woodiness_4918.jpg   203     0   403   318  woodiness"
            ]
          },
          "metadata": {},
          "execution_count": 19
        }
      ]
    },
    {
      "cell_type": "code",
      "metadata": {
        "colab": {
          "base_uri": "https://localhost:8080/"
        },
        "id": "UVYeCqpvL8dE",
        "outputId": "a55ae4c9-535f-4d1c-b8ec-121ec5b23fdb"
      },
      "source": [
        "train['class'].value_counts()"
      ],
      "execution_count": 13,
      "outputs": [
        {
          "output_type": "execute_result",
          "data": {
            "text/plain": [
              "healthy      6483\n",
              "woodiness    4918\n",
              "brownspot    3975\n",
              "Name: class, dtype: int64"
            ]
          },
          "metadata": {},
          "execution_count": 13
        }
      ]
    },
    {
      "cell_type": "code",
      "metadata": {
        "id": "IkdtCGc9MbnW"
      },
      "source": [
        "brownspot_csv=train[train['class']=='brownspot']\n",
        "woodiness_csv=train[train['class']=='woodiness']\n",
        "healthy_csv=train[train['class']=='healthy']"
      ],
      "execution_count": 20,
      "outputs": []
    },
    {
      "cell_type": "code",
      "metadata": {
        "id": "XcDYclQ5T5gS"
      },
      "source": [
        "brownspot_csv.to_csv('brownspot.csv',index=False)\n",
        "woodiness_csv.to_csv('woodiness.csv',index=False)\n",
        "healthy_csv.to_csv('healthy.csv',index=False)"
      ],
      "execution_count": 21,
      "outputs": []
    },
    {
      "cell_type": "code",
      "metadata": {
        "colab": {
          "base_uri": "https://localhost:8080/",
          "height": 35
        },
        "id": "8nAVEIgyWEuU",
        "outputId": "9a590da7-9b56-47a9-e05c-9b2f9814e1b2"
      },
      "source": [
        "make_archive('csv_files','zip',root_dir='csv_files')"
      ],
      "execution_count": 23,
      "outputs": [
        {
          "output_type": "execute_result",
          "data": {
            "application/vnd.google.colaboratory.intrinsic+json": {
              "type": "string"
            },
            "text/plain": [
              "'/content/csv_files.zip'"
            ]
          },
          "metadata": {},
          "execution_count": 23
        }
      ]
    },
    {
      "cell_type": "code",
      "metadata": {
        "id": "9fPDmyROVxFG"
      },
      "source": [
        "#we have Train_1.zip\n",
        "#we have csv_files.zip"
      ],
      "execution_count": null,
      "outputs": []
    },
    {
      "cell_type": "code",
      "metadata": {
        "id": "VF9AnHD2VxA_"
      },
      "source": [
        ""
      ],
      "execution_count": null,
      "outputs": []
    }
  ]
}